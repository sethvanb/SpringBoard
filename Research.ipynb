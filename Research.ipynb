{
 "cells": [
  {
   "cell_type": "markdown",
   "metadata": {},
   "source": [
    "# Links to similar Projects\n",
    "* https://github.com/kylejohnson363/Predicting-MLB-Games-with-Machine-Learning\n",
    "* https://towardsdatascience.com/a-machine-learning-algorithm-for-predicting-outcomes-of-mlb-games-fa17710f3c04\n",
    "* https://www.researchgate.net/publication/351597865_Use_of_Machine_Learning_and_Deep_Learning_to_Predict_the_Outcomes_of_Major_League_Baseball_Matches"
   ]
  },
  {
   "cell_type": "code",
   "execution_count": null,
   "metadata": {},
   "outputs": [],
   "source": []
  },
  {
   "cell_type": "code",
   "execution_count": null,
   "metadata": {},
   "outputs": [],
   "source": [
    "# Replicating Models/Results of https://github.com/kylejohnson363/Predicting-MLB-Games-with-Machine-Learning\n"
   ]
  }
 ],
 "metadata": {
  "language_info": {
   "name": "python"
  },
  "orig_nbformat": 4
 },
 "nbformat": 4,
 "nbformat_minor": 2
}
